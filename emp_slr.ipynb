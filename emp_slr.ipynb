{
 "cells": [
  {
   "cell_type": "code",
   "execution_count": 1,
   "metadata": {},
   "outputs": [],
   "source": [
    "import numpy as np\n",
    "import pandas as pd\n",
    "import matplotlib.pyplot as plt\n",
    "import statsmodels.formula.api as smf"
   ]
  },
  {
   "cell_type": "code",
   "execution_count": 2,
   "metadata": {},
   "outputs": [],
   "source": [
    "emp = pd.read_csv(\"F:\\\\Excelr\\\\Assignment\\\\Using R\\\\SLR\\\\emp_data.csv\")"
   ]
  },
  {
   "cell_type": "code",
   "execution_count": 3,
   "metadata": {
    "scrolled": true
   },
   "outputs": [
    {
     "data": {
      "text/html": [
       "<div>\n",
       "<style scoped>\n",
       "    .dataframe tbody tr th:only-of-type {\n",
       "        vertical-align: middle;\n",
       "    }\n",
       "\n",
       "    .dataframe tbody tr th {\n",
       "        vertical-align: top;\n",
       "    }\n",
       "\n",
       "    .dataframe thead th {\n",
       "        text-align: right;\n",
       "    }\n",
       "</style>\n",
       "<table border=\"1\" class=\"dataframe\">\n",
       "  <thead>\n",
       "    <tr style=\"text-align: right;\">\n",
       "      <th></th>\n",
       "      <th>Salary_hike</th>\n",
       "      <th>Churn_out_rate</th>\n",
       "    </tr>\n",
       "  </thead>\n",
       "  <tbody>\n",
       "    <tr>\n",
       "      <th>0</th>\n",
       "      <td>1580</td>\n",
       "      <td>92</td>\n",
       "    </tr>\n",
       "    <tr>\n",
       "      <th>1</th>\n",
       "      <td>1600</td>\n",
       "      <td>85</td>\n",
       "    </tr>\n",
       "    <tr>\n",
       "      <th>2</th>\n",
       "      <td>1610</td>\n",
       "      <td>80</td>\n",
       "    </tr>\n",
       "    <tr>\n",
       "      <th>3</th>\n",
       "      <td>1640</td>\n",
       "      <td>75</td>\n",
       "    </tr>\n",
       "    <tr>\n",
       "      <th>4</th>\n",
       "      <td>1660</td>\n",
       "      <td>72</td>\n",
       "    </tr>\n",
       "  </tbody>\n",
       "</table>\n",
       "</div>"
      ],
      "text/plain": [
       "   Salary_hike  Churn_out_rate\n",
       "0         1580              92\n",
       "1         1600              85\n",
       "2         1610              80\n",
       "3         1640              75\n",
       "4         1660              72"
      ]
     },
     "execution_count": 3,
     "metadata": {},
     "output_type": "execute_result"
    }
   ],
   "source": [
    "emp.head()"
   ]
  },
  {
   "cell_type": "code",
   "execution_count": 4,
   "metadata": {
    "scrolled": true
   },
   "outputs": [
    {
     "data": {
      "text/plain": [
       "(10, 2)"
      ]
     },
     "execution_count": 4,
     "metadata": {},
     "output_type": "execute_result"
    }
   ],
   "source": [
    "emp.shape"
   ]
  },
  {
   "cell_type": "code",
   "execution_count": 5,
   "metadata": {},
   "outputs": [],
   "source": [
    "emp.rename(columns={'Salary_hike': 'SH',\n",
    "                   'Churn_out_rate':'CR'},inplace = True)"
   ]
  },
  {
   "cell_type": "code",
   "execution_count": 6,
   "metadata": {
    "scrolled": true
   },
   "outputs": [
    {
     "name": "stdout",
     "output_type": "stream",
     "text": [
      "     SH  CR\n",
      "0  1580  92\n",
      "1  1600  85\n",
      "2  1610  80\n",
      "3  1640  75\n",
      "4  1660  72\n"
     ]
    }
   ],
   "source": [
    "print(emp.head())"
   ]
  },
  {
   "cell_type": "code",
   "execution_count": 8,
   "metadata": {},
   "outputs": [],
   "source": [
    "model = smf.ols(\"SH~CR\", data=emp).fit()"
   ]
  },
  {
   "cell_type": "code",
   "execution_count": 9,
   "metadata": {
    "scrolled": true
   },
   "outputs": [
    {
     "name": "stdout",
     "output_type": "stream",
     "text": [
      "                            OLS Regression Results                            \n",
      "==============================================================================\n",
      "Dep. Variable:                     SH   R-squared:                       0.831\n",
      "Model:                            OLS   Adj. R-squared:                  0.810\n",
      "Method:                 Least Squares   F-statistic:                     39.40\n",
      "Date:                Wed, 09 Sep 2020   Prob (F-statistic):           0.000239\n",
      "Time:                        10:41:29   Log-Likelihood:                -49.995\n",
      "No. Observations:                  10   AIC:                             104.0\n",
      "Df Residuals:                       8   BIC:                             104.6\n",
      "Df Model:                           1                                         \n",
      "Covariance Type:            nonrobust                                         \n",
      "==============================================================================\n",
      "                 coef    std err          t      P>|t|      [0.025      0.975]\n",
      "------------------------------------------------------------------------------\n",
      "Intercept   2285.3653     95.912     23.828      0.000    2064.193    2506.538\n",
      "CR            -8.1861      1.304     -6.277      0.000     -11.193      -5.179\n",
      "==============================================================================\n",
      "Omnibus:                        2.758   Durbin-Watson:                   0.591\n",
      "Prob(Omnibus):                  0.252   Jarque-Bera (JB):                1.564\n",
      "Skew:                           0.940   Prob(JB):                        0.458\n",
      "Kurtosis:                       2.536   Cond. No.                         556.\n",
      "==============================================================================\n",
      "\n",
      "Warnings:\n",
      "[1] Standard Errors assume that the covariance matrix of the errors is correctly specified.\n"
     ]
    },
    {
     "name": "stderr",
     "output_type": "stream",
     "text": [
      "C:\\Users\\This\\anaconda3\\lib\\site-packages\\scipy\\stats\\stats.py:1535: UserWarning: kurtosistest only valid for n>=20 ... continuing anyway, n=10\n",
      "  \"anyway, n=%i\" % int(n))\n"
     ]
    }
   ],
   "source": [
    "print(model.summary())"
   ]
  },
  {
   "cell_type": "code",
   "execution_count": 14,
   "metadata": {},
   "outputs": [
    {
     "name": "stdout",
     "output_type": "stream",
     "text": [
      "0    1532.245855\n",
      "1    1589.548421\n",
      "2    1630.478826\n",
      "3    1671.409230\n",
      "4    1695.967473\n",
      "5    1712.339635\n",
      "6    1728.711796\n",
      "7    1753.270039\n",
      "8    1777.828282\n",
      "9    1794.200444\n",
      "dtype: float64\n"
     ]
    }
   ],
   "source": [
    "pred = model.predict(emp)\n",
    "print(pred)"
   ]
  },
  {
   "cell_type": "code",
   "execution_count": 16,
   "metadata": {},
   "outputs": [
    {
     "name": "stdout",
     "output_type": "stream",
     "text": [
      "0   -47.754145\n",
      "1   -10.451579\n",
      "2    20.478826\n",
      "3    31.409230\n",
      "4    35.967473\n",
      "5    22.339635\n",
      "6    22.711796\n",
      "7    23.270039\n",
      "8   -22.171718\n",
      "9   -75.799556\n",
      "dtype: float64\n"
     ]
    }
   ],
   "source": [
    "rmse = pred - emp.SH\n",
    "print(rmse)"
   ]
  },
  {
   "cell_type": "code",
   "execution_count": 18,
   "metadata": {
    "scrolled": true
   },
   "outputs": [
    {
     "name": "stdout",
     "output_type": "stream",
     "text": [
      "                            OLS Regression Results                            \n",
      "==============================================================================\n",
      "Dep. Variable:             np.log(SH)   R-squared:                       0.849\n",
      "Model:                            OLS   Adj. R-squared:                  0.830\n",
      "Method:                 Least Squares   F-statistic:                     44.85\n",
      "Date:                Wed, 09 Sep 2020   Prob (F-statistic):           0.000153\n",
      "Time:                        10:58:43   Log-Likelihood:                 25.029\n",
      "No. Observations:                  10   AIC:                            -46.06\n",
      "Df Residuals:                       8   BIC:                            -45.45\n",
      "Df Model:                           1                                         \n",
      "Covariance Type:            nonrobust                                         \n",
      "==============================================================================\n",
      "                 coef    std err          t      P>|t|      [0.025      0.975]\n",
      "------------------------------------------------------------------------------\n",
      "Intercept      7.7816      0.053    147.045      0.000       7.660       7.904\n",
      "CR            -0.0048      0.001     -6.697      0.000      -0.006      -0.003\n",
      "==============================================================================\n",
      "Omnibus:                        2.533   Durbin-Watson:                   0.592\n",
      "Prob(Omnibus):                  0.282   Jarque-Bera (JB):                1.500\n",
      "Skew:                           0.909   Prob(JB):                        0.472\n",
      "Kurtosis:                       2.455   Cond. No.                         556.\n",
      "==============================================================================\n",
      "\n",
      "Warnings:\n",
      "[1] Standard Errors assume that the covariance matrix of the errors is correctly specified.\n"
     ]
    }
   ],
   "source": [
    "model1 = smf.ols(\"np.log(SH)~CR\",data=emp).fit()\n",
    "print(model1.summary())"
   ]
  },
  {
   "cell_type": "code",
   "execution_count": 24,
   "metadata": {
    "scrolled": true
   },
   "outputs": [
    {
     "name": "stdout",
     "output_type": "stream",
     "text": [
      "0    7.338308\n",
      "1    7.372039\n",
      "2    7.396133\n",
      "3    7.420226\n",
      "4    7.434682\n",
      "5    7.444320\n",
      "6    7.453957\n",
      "7    7.468413\n",
      "8    7.482870\n",
      "9    7.492507\n",
      "dtype: float64\n"
     ]
    }
   ],
   "source": [
    "pred1 = model1.predict(emp)\n",
    "print(pred1)"
   ]
  },
  {
   "cell_type": "code",
   "execution_count": 27,
   "metadata": {},
   "outputs": [
    {
     "name": "stdout",
     "output_type": "stream",
     "text": [
      "0   -1572.661692\n",
      "1   -1592.627961\n",
      "2   -1602.603867\n",
      "3   -1632.579774\n",
      "4   -1652.565318\n",
      "5   -1682.555680\n",
      "6   -1698.546043\n",
      "7   -1722.531587\n",
      "8   -1792.517130\n",
      "9   -1862.507493\n",
      "dtype: float64\n"
     ]
    }
   ],
   "source": [
    "rmse1 = pred1 - emp.SH\n",
    "print(rmse1)"
   ]
  }
 ],
 "metadata": {
  "kernelspec": {
   "display_name": "Python 3",
   "language": "python",
   "name": "python3"
  },
  "language_info": {
   "codemirror_mode": {
    "name": "ipython",
    "version": 3
   },
   "file_extension": ".py",
   "mimetype": "text/x-python",
   "name": "python",
   "nbconvert_exporter": "python",
   "pygments_lexer": "ipython3",
   "version": "3.7.6"
  }
 },
 "nbformat": 4,
 "nbformat_minor": 4
}
