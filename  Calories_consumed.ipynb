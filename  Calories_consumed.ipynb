{
 "cells": [
  {
   "cell_type": "code",
   "execution_count": 1,
   "metadata": {},
   "outputs": [],
   "source": [
    "import pandas as pd\n",
    "import numpy as np\n",
    "import matplotlib.pyplot as plt\n",
    "#statsmodels.formula.api as smf\n",
    "import statsmodels.formula.api as smf"
   ]
  },
  {
   "cell_type": "code",
   "execution_count": 2,
   "metadata": {},
   "outputs": [],
   "source": [
    "cal = pd.read_csv(\"F:\\\\Excelr\\\\Assignment\\\\Using R\\\\SLR\\\\calories_consumed.csv\")"
   ]
  },
  {
   "cell_type": "code",
   "execution_count": 3,
   "metadata": {},
   "outputs": [
    {
     "name": "stdout",
     "output_type": "stream",
     "text": [
      "   Weight gained (grams)  Calories Consumed\n",
      "0                    108               1500\n",
      "1                    200               2300\n",
      "2                    900               3400\n",
      "3                    200               2200\n",
      "4                    300               2500\n"
     ]
    }
   ],
   "source": [
    "print(cal.head())"
   ]
  },
  {
   "cell_type": "markdown",
   "metadata": {},
   "source": [
    "# cal = cal.drop(cal.columns[[0]],axis=0)"
   ]
  },
  {
   "cell_type": "code",
   "execution_count": 5,
   "metadata": {
    "scrolled": false
   },
   "outputs": [
    {
     "data": {
      "text/plain": [
       "{'whiskers': [<matplotlib.lines.Line2D at 0x7d84fdf108>,\n",
       "  <matplotlib.lines.Line2D at 0x7d84ffadc8>,\n",
       "  <matplotlib.lines.Line2D at 0x7d8fa0eec8>,\n",
       "  <matplotlib.lines.Line2D at 0x7d8fa0ef88>,\n",
       "  <matplotlib.lines.Line2D at 0x7d8fa22ec8>,\n",
       "  <matplotlib.lines.Line2D at 0x7d8fa22fc8>,\n",
       "  <matplotlib.lines.Line2D at 0x7d8fa2d748>,\n",
       "  <matplotlib.lines.Line2D at 0x7d8fa2dbc8>,\n",
       "  <matplotlib.lines.Line2D at 0x7d8fa42f88>,\n",
       "  <matplotlib.lines.Line2D at 0x7d8fa22b88>,\n",
       "  <matplotlib.lines.Line2D at 0x7d8fa50cc8>,\n",
       "  <matplotlib.lines.Line2D at 0x7d8fa50788>,\n",
       "  <matplotlib.lines.Line2D at 0x7d8fa5f988>,\n",
       "  <matplotlib.lines.Line2D at 0x7d8fa5fd48>,\n",
       "  <matplotlib.lines.Line2D at 0x7d8fa6eec8>,\n",
       "  <matplotlib.lines.Line2D at 0x7d8fa76448>,\n",
       "  <matplotlib.lines.Line2D at 0x7d8fa3ae48>,\n",
       "  <matplotlib.lines.Line2D at 0x7d8fa82808>,\n",
       "  <matplotlib.lines.Line2D at 0x7d8fa91908>,\n",
       "  <matplotlib.lines.Line2D at 0x7d8fa91cc8>,\n",
       "  <matplotlib.lines.Line2D at 0x7d8faa0dc8>,\n",
       "  <matplotlib.lines.Line2D at 0x7d8faa0a08>,\n",
       "  <matplotlib.lines.Line2D at 0x7d8fab5f08>,\n",
       "  <matplotlib.lines.Line2D at 0x7d8fab5708>,\n",
       "  <matplotlib.lines.Line2D at 0x7d8fac3888>,\n",
       "  <matplotlib.lines.Line2D at 0x7d8fac3c48>,\n",
       "  <matplotlib.lines.Line2D at 0x7d8fad3dc8>,\n",
       "  <matplotlib.lines.Line2D at 0x7d8fad3a08>],\n",
       " 'caps': [<matplotlib.lines.Line2D at 0x7d84ffaec8>,\n",
       "  <matplotlib.lines.Line2D at 0x7d84ffaf88>,\n",
       "  <matplotlib.lines.Line2D at 0x7d8fa16f88>,\n",
       "  <matplotlib.lines.Line2D at 0x7d8fa16c88>,\n",
       "  <matplotlib.lines.Line2D at 0x7d8fa28d08>,\n",
       "  <matplotlib.lines.Line2D at 0x7d8fa28c88>,\n",
       "  <matplotlib.lines.Line2D at 0x7d8fa33a88>,\n",
       "  <matplotlib.lines.Line2D at 0x7d8fa33748>,\n",
       "  <matplotlib.lines.Line2D at 0x7d8fa4a048>,\n",
       "  <matplotlib.lines.Line2D at 0x7d8fa28e08>,\n",
       "  <matplotlib.lines.Line2D at 0x7d8fa585c8>,\n",
       "  <matplotlib.lines.Line2D at 0x7d8fa58288>,\n",
       "  <matplotlib.lines.Line2D at 0x7d8fa65b08>,\n",
       "  <matplotlib.lines.Line2D at 0x7d8fa657c8>,\n",
       "  <matplotlib.lines.Line2D at 0x7d8fa6eb08>,\n",
       "  <matplotlib.lines.Line2D at 0x7d8fa7b5c8>,\n",
       "  <matplotlib.lines.Line2D at 0x7d8fa8b588>,\n",
       "  <matplotlib.lines.Line2D at 0x7d8fa8b248>,\n",
       "  <matplotlib.lines.Line2D at 0x7d8fa986c8>,\n",
       "  <matplotlib.lines.Line2D at 0x7d8fa98a08>,\n",
       "  <matplotlib.lines.Line2D at 0x7d8faa7f48>,\n",
       "  <matplotlib.lines.Line2D at 0x7d8faa7c08>,\n",
       "  <matplotlib.lines.Line2D at 0x7d8fab94c8>,\n",
       "  <matplotlib.lines.Line2D at 0x7d8fab9188>,\n",
       "  <matplotlib.lines.Line2D at 0x7d8facda08>,\n",
       "  <matplotlib.lines.Line2D at 0x7d8facd6c8>,\n",
       "  <matplotlib.lines.Line2D at 0x7d8fad9f48>,\n",
       "  <matplotlib.lines.Line2D at 0x7d8fad9c08>],\n",
       " 'boxes': [<matplotlib.lines.Line2D at 0x7d84fe7e48>,\n",
       "  <matplotlib.lines.Line2D at 0x7d8fa0edc8>,\n",
       "  <matplotlib.lines.Line2D at 0x7d8fa0e7c8>,\n",
       "  <matplotlib.lines.Line2D at 0x7d8fa22488>,\n",
       "  <matplotlib.lines.Line2D at 0x7d8fa42508>,\n",
       "  <matplotlib.lines.Line2D at 0x7d8fa50f48>,\n",
       "  <matplotlib.lines.Line2D at 0x7d8fa5fc08>,\n",
       "  <matplotlib.lines.Line2D at 0x7d8fa65108>,\n",
       "  <matplotlib.lines.Line2D at 0x7d8fa33088>,\n",
       "  <matplotlib.lines.Line2D at 0x7d8fa50c08>,\n",
       "  <matplotlib.lines.Line2D at 0x7d8fa980c8>,\n",
       "  <matplotlib.lines.Line2D at 0x7d8faa7548>,\n",
       "  <matplotlib.lines.Line2D at 0x7d8fab5a88>,\n",
       "  <matplotlib.lines.Line2D at 0x7d8facd048>],\n",
       " 'medians': [<matplotlib.lines.Line2D at 0x7d8fa07f08>,\n",
       "  <matplotlib.lines.Line2D at 0x7d8fa1cd48>,\n",
       "  <matplotlib.lines.Line2D at 0x7d8fa28ec8>,\n",
       "  <matplotlib.lines.Line2D at 0x7d8fa3a048>,\n",
       "  <matplotlib.lines.Line2D at 0x7d8fa4a5c8>,\n",
       "  <matplotlib.lines.Line2D at 0x7d8fa58b08>,\n",
       "  <matplotlib.lines.Line2D at 0x7d8fa6e088>,\n",
       "  <matplotlib.lines.Line2D at 0x7d8fa7b2c8>,\n",
       "  <matplotlib.lines.Line2D at 0x7d8fa8ba88>,\n",
       "  <matplotlib.lines.Line2D at 0x7d8faa04c8>,\n",
       "  <matplotlib.lines.Line2D at 0x7d8faad4c8>,\n",
       "  <matplotlib.lines.Line2D at 0x7d8fab9a08>,\n",
       "  <matplotlib.lines.Line2D at 0x7d8facdf48>,\n",
       "  <matplotlib.lines.Line2D at 0x7d8fae14c8>],\n",
       " 'fliers': [<matplotlib.lines.Line2D at 0x7d8fa07c08>,\n",
       "  <matplotlib.lines.Line2D at 0x7d8fa1ccc8>,\n",
       "  <matplotlib.lines.Line2D at 0x7d8fa2df88>,\n",
       "  <matplotlib.lines.Line2D at 0x7d8fa3a548>,\n",
       "  <matplotlib.lines.Line2D at 0x7d8fa509c8>,\n",
       "  <matplotlib.lines.Line2D at 0x7d8fa5f088>,\n",
       "  <matplotlib.lines.Line2D at 0x7d8fa6e5c8>,\n",
       "  <matplotlib.lines.Line2D at 0x7d8fa7bb08>,\n",
       "  <matplotlib.lines.Line2D at 0x7d8fa4aac8>,\n",
       "  <matplotlib.lines.Line2D at 0x7d8faa01c8>,\n",
       "  <matplotlib.lines.Line2D at 0x7d8faada08>,\n",
       "  <matplotlib.lines.Line2D at 0x7d8fab9f48>,\n",
       "  <matplotlib.lines.Line2D at 0x7d8fad34c8>,\n",
       "  <matplotlib.lines.Line2D at 0x7d8fae1a08>],\n",
       " 'means': []}"
      ]
     },
     "execution_count": 5,
     "metadata": {},
     "output_type": "execute_result"
    },
    {
     "data": {
      "image/png": "[encoded data removed]",
      "text/plain": [
       "<Figure size 432x288 with 1 Axes>"
      ]
     },
     "metadata": {
      "needs_background": "light"
     },
     "output_type": "display_data"
    }
   ],
   "source": [
    "plt.boxplot(cal)"
   ]
  },
  {
   "cell_type": "code",
   "execution_count": 6,
   "metadata": {
    "scrolled": true
   },
   "outputs": [
    {
     "name": "stdout",
     "output_type": "stream",
     "text": [
      "(14, 2)\n"
     ]
    }
   ],
   "source": [
    "print(cal.shape)"
   ]
  },
  {
   "cell_type": "code",
   "execution_count": 7,
   "metadata": {},
   "outputs": [],
   "source": [
    "cal.rename(columns={'Weight gained (grams)' : 'wg',\n",
    "                    'Calories Consumed' : 'CC'},inplace = True)  "
   ]
  },
  {
   "cell_type": "code",
   "execution_count": 8,
   "metadata": {
    "scrolled": true
   },
   "outputs": [
    {
     "data": {
      "text/html": [
       "<div>\n",
       "<style scoped>\n",
       "    .dataframe tbody tr th:only-of-type {\n",
       "        vertical-align: middle;\n",
       "    }\n",
       "\n",
       "    .dataframe tbody tr th {\n",
       "        vertical-align: top;\n",
       "    }\n",
       "\n",
       "    .dataframe thead th {\n",
       "        text-align: right;\n",
       "    }\n",
       "</style>\n",
       "<table border=\"1\" class=\"dataframe\">\n",
       "  <thead>\n",
       "    <tr style=\"text-align: right;\">\n",
       "      <th></th>\n",
       "      <th>wg</th>\n",
       "      <th>CC</th>\n",
       "    </tr>\n",
       "  </thead>\n",
       "  <tbody>\n",
       "    <tr>\n",
       "      <th>0</th>\n",
       "      <td>108</td>\n",
       "      <td>1500</td>\n",
       "    </tr>\n",
       "    <tr>\n",
       "      <th>1</th>\n",
       "      <td>200</td>\n",
       "      <td>2300</td>\n",
       "    </tr>\n",
       "    <tr>\n",
       "      <th>2</th>\n",
       "      <td>900</td>\n",
       "      <td>3400</td>\n",
       "    </tr>\n",
       "    <tr>\n",
       "      <th>3</th>\n",
       "      <td>200</td>\n",
       "      <td>2200</td>\n",
       "    </tr>\n",
       "    <tr>\n",
       "      <th>4</th>\n",
       "      <td>300</td>\n",
       "      <td>2500</td>\n",
       "    </tr>\n",
       "  </tbody>\n",
       "</table>\n",
       "</div>"
      ],
      "text/plain": [
       "    wg    CC\n",
       "0  108  1500\n",
       "1  200  2300\n",
       "2  900  3400\n",
       "3  200  2200\n",
       "4  300  2500"
      ]
     },
     "execution_count": 8,
     "metadata": {},
     "output_type": "execute_result"
    }
   ],
   "source": [
    "cal.head()"
   ]
  },
  {
   "cell_type": "code",
   "execution_count": 11,
   "metadata": {
    "scrolled": true
   },
   "outputs": [
    {
     "name": "stdout",
     "output_type": "stream",
     "text": [
      "                            OLS Regression Results                            \n",
      "==============================================================================\n",
      "Dep. Variable:                     CC   R-squared:                       0.897\n",
      "Model:                            OLS   Adj. R-squared:                  0.888\n",
      "Method:                 Least Squares   F-statistic:                     104.3\n",
      "Date:                Wed, 09 Sep 2020   Prob (F-statistic):           2.86e-07\n",
      "Time:                        11:17:24   Log-Likelihood:                -96.170\n",
      "No. Observations:                  14   AIC:                             196.3\n",
      "Df Residuals:                      12   BIC:                             197.6\n",
      "Df Model:                           1                                         \n",
      "Covariance Type:            nonrobust                                         \n",
      "==============================================================================\n",
      "                 coef    std err          t      P>|t|      [0.025      0.975]\n",
      "------------------------------------------------------------------------------\n",
      "Intercept   1577.2007    100.541     15.687      0.000    1358.141    1796.260\n",
      "wg             2.1344      0.209     10.211      0.000       1.679       2.590\n",
      "==============================================================================\n",
      "Omnibus:                        0.254   Durbin-Watson:                   2.308\n",
      "Prob(Omnibus):                  0.881   Jarque-Bera (JB):                0.425\n",
      "Skew:                          -0.098   Prob(JB):                        0.808\n",
      "Kurtosis:                       2.169   Cond. No.                         719.\n",
      "==============================================================================\n",
      "\n",
      "Warnings:\n",
      "[1] Standard Errors assume that the covariance matrix of the errors is correctly specified.\n"
     ]
    },
    {
     "name": "stderr",
     "output_type": "stream",
     "text": [
      "C:\\Users\\This\\anaconda3\\lib\\site-packages\\scipy\\stats\\stats.py:1535: UserWarning: kurtosistest only valid for n>=20 ... continuing anyway, n=14\n",
      "  \"anyway, n=%i\" % int(n))\n"
     ]
    }
   ],
   "source": [
    "model = smf.ols(\"CC~wg\",data=cal).fit()\n",
    "print(model.summary())"
   ]
  },
  {
   "cell_type": "code",
   "execution_count": 13,
   "metadata": {
    "scrolled": true
   },
   "outputs": [
    {
     "name": "stdout",
     "output_type": "stream",
     "text": [
      "0     1807.718381\n",
      "1     2004.085294\n",
      "2     3498.181364\n",
      "3     2004.085294\n",
      "4     2217.527589\n",
      "5     1811.987227\n",
      "6     1850.406841\n",
      "7     1709.534925\n",
      "8     2857.854477\n",
      "9     3925.065955\n",
      "10    1790.642998\n",
      "11    1897.364146\n",
      "12    2324.248737\n",
      "13    3071.296772\n",
      "dtype: float64\n"
     ]
    }
   ],
   "source": [
    "pre = model.predict(cal)\n",
    "print(pre)"
   ]
  },
  {
   "cell_type": "code",
   "execution_count": null,
   "metadata": {},
   "outputs": [],
   "source": []
  }
 ],
 "metadata": {
  "kernelspec": {
   "display_name": "Python 3",
   "language": "python",
   "name": "python3"
  },
  "language_info": {
   "codemirror_mode": {
    "name": "ipython",
    "version": 3
   },
   "file_extension": ".py",
   "mimetype": "text/x-python",
   "name": "python",
   "nbconvert_exporter": "python",
   "pygments_lexer": "ipython3",
   "version": "3.7.6"
  }
 },
 "nbformat": 4,
 "nbformat_minor": 4
}
