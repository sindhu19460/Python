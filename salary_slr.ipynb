{
 "cells": [
  {
   "cell_type": "code",
   "execution_count": 1,
   "metadata": {},
   "outputs": [],
   "source": [
    "import pandas as pd\n",
    "import numpy as np\n",
    "import matplotlib.pyplot as plt\n",
    "import statsmodels.formula.api as smf"
   ]
  },
  {
   "cell_type": "code",
   "execution_count": 2,
   "metadata": {},
   "outputs": [],
   "source": [
    "salary = pd.read_csv(\"F:\\\\Excelr\\\\Assignment\\\\Using R\\\\SLR\\\\Salary_Data.csv\")"
   ]
  },
  {
   "cell_type": "code",
   "execution_count": 3,
   "metadata": {
    "scrolled": true
   },
   "outputs": [
    {
     "data": {
      "text/html": [
       "<div>\n",
       "<style scoped>\n",
       "    .dataframe tbody tr th:only-of-type {\n",
       "        vertical-align: middle;\n",
       "    }\n",
       "\n",
       "    .dataframe tbody tr th {\n",
       "        vertical-align: top;\n",
       "    }\n",
       "\n",
       "    .dataframe thead th {\n",
       "        text-align: right;\n",
       "    }\n",
       "</style>\n",
       "<table border=\"1\" class=\"dataframe\">\n",
       "  <thead>\n",
       "    <tr style=\"text-align: right;\">\n",
       "      <th></th>\n",
       "      <th>YearsExperience</th>\n",
       "      <th>Salary</th>\n",
       "    </tr>\n",
       "  </thead>\n",
       "  <tbody>\n",
       "    <tr>\n",
       "      <th>0</th>\n",
       "      <td>1.1</td>\n",
       "      <td>39343.0</td>\n",
       "    </tr>\n",
       "    <tr>\n",
       "      <th>1</th>\n",
       "      <td>1.3</td>\n",
       "      <td>46205.0</td>\n",
       "    </tr>\n",
       "    <tr>\n",
       "      <th>2</th>\n",
       "      <td>1.5</td>\n",
       "      <td>37731.0</td>\n",
       "    </tr>\n",
       "    <tr>\n",
       "      <th>3</th>\n",
       "      <td>2.0</td>\n",
       "      <td>43525.0</td>\n",
       "    </tr>\n",
       "    <tr>\n",
       "      <th>4</th>\n",
       "      <td>2.2</td>\n",
       "      <td>39891.0</td>\n",
       "    </tr>\n",
       "  </tbody>\n",
       "</table>\n",
       "</div>"
      ],
      "text/plain": [
       "   YearsExperience   Salary\n",
       "0              1.1  39343.0\n",
       "1              1.3  46205.0\n",
       "2              1.5  37731.0\n",
       "3              2.0  43525.0\n",
       "4              2.2  39891.0"
      ]
     },
     "execution_count": 3,
     "metadata": {},
     "output_type": "execute_result"
    }
   ],
   "source": [
    "salary.head()"
   ]
  },
  {
   "cell_type": "code",
   "execution_count": 8,
   "metadata": {},
   "outputs": [],
   "source": [
    "model = smf.ols(\"YearsExperience~Salary\",data=salary).fit()"
   ]
  },
  {
   "cell_type": "code",
   "execution_count": 9,
   "metadata": {},
   "outputs": [
    {
     "name": "stdout",
     "output_type": "stream",
     "text": [
      "                            OLS Regression Results                            \n",
      "==============================================================================\n",
      "Dep. Variable:        YearsExperience   R-squared:                       0.957\n",
      "Model:                            OLS   Adj. R-squared:                  0.955\n",
      "Method:                 Least Squares   F-statistic:                     622.5\n",
      "Date:                Tue, 08 Sep 2020   Prob (F-statistic):           1.14e-20\n",
      "Time:                        21:15:52   Log-Likelihood:                -26.168\n",
      "No. Observations:                  30   AIC:                             56.34\n",
      "Df Residuals:                      28   BIC:                             59.14\n",
      "Df Model:                           1                                         \n",
      "Covariance Type:            nonrobust                                         \n",
      "==============================================================================\n",
      "                 coef    std err          t      P>|t|      [0.025      0.975]\n",
      "------------------------------------------------------------------------------\n",
      "Intercept     -2.3832      0.327     -7.281      0.000      -3.054      -1.713\n",
      "Salary         0.0001   4.06e-06     24.950      0.000     9.3e-05       0.000\n",
      "==============================================================================\n",
      "Omnibus:                        3.544   Durbin-Watson:                   1.587\n",
      "Prob(Omnibus):                  0.170   Jarque-Bera (JB):                2.094\n",
      "Skew:                          -0.412   Prob(JB):                        0.351\n",
      "Kurtosis:                       2.003   Cond. No.                     2.41e+05\n",
      "==============================================================================\n",
      "\n",
      "Warnings:\n",
      "[1] Standard Errors assume that the covariance matrix of the errors is correctly specified.\n",
      "[2] The condition number is large, 2.41e+05. This might indicate that there are\n",
      "strong multicollinearity or other numerical problems.\n"
     ]
    }
   ],
   "source": [
    "print(model.summary())"
   ]
  },
  {
   "cell_type": "code",
   "execution_count": 11,
   "metadata": {
    "scrolled": true
   },
   "outputs": [
    {
     "name": "stdout",
     "output_type": "stream",
     "text": [
      "0      1.600934\n",
      "1      2.295819\n",
      "2      1.437694\n",
      "3      2.024427\n",
      "4      1.656428\n",
      "5      3.352729\n",
      "6      3.707969\n",
      "7      3.130248\n",
      "8      4.142905\n",
      "9      3.408121\n",
      "10     4.018652\n",
      "11     3.266856\n",
      "12     3.384628\n",
      "13     3.397185\n",
      "14     3.805285\n",
      "15     4.496626\n",
      "16     4.303310\n",
      "17     6.030801\n",
      "18     5.856117\n",
      "19     7.129735\n",
      "20     6.906748\n",
      "21     7.568520\n",
      "22     7.875253\n",
      "23     9.142087\n",
      "24     8.698442\n",
      "25     8.308670\n",
      "26     9.461782\n",
      "27     9.022897\n",
      "28    10.010845\n",
      "29     9.958288\n",
      "dtype: float64\n"
     ]
    }
   ],
   "source": [
    "pred = model.predict(salary)\n",
    "print(pred)"
   ]
  },
  {
   "cell_type": "code",
   "execution_count": 15,
   "metadata": {
    "scrolled": true
   },
   "outputs": [
    {
     "name": "stdout",
     "output_type": "stream",
     "text": [
      "0     0.500934\n",
      "1     0.995819\n",
      "2    -0.062306\n",
      "3     0.024427\n",
      "4    -0.543572\n",
      "5     0.452729\n",
      "6     0.707969\n",
      "7    -0.069752\n",
      "8     0.942905\n",
      "9    -0.291879\n",
      "10    0.118652\n",
      "11   -0.733144\n",
      "12   -0.615372\n",
      "13   -0.702815\n",
      "14   -0.694715\n",
      "15   -0.403374\n",
      "16   -0.796690\n",
      "17    0.730801\n",
      "18   -0.043883\n",
      "19    1.129735\n",
      "20    0.106748\n",
      "21    0.468520\n",
      "22   -0.024747\n",
      "23    0.942087\n",
      "24   -0.001558\n",
      "25   -0.691330\n",
      "26   -0.038218\n",
      "27   -0.577103\n",
      "28   -0.289155\n",
      "29   -0.541712\n",
      "dtype: float64\n"
     ]
    }
   ],
   "source": [
    "rmse = pred-salary.YearsExperience\n",
    "print(rmse)"
   ]
  },
  {
   "cell_type": "code",
   "execution_count": 16,
   "metadata": {
    "scrolled": true
   },
   "outputs": [
    {
     "name": "stdout",
     "output_type": "stream",
     "text": [
      "0.5788774181748744\n"
     ]
    }
   ],
   "source": [
    "print(np.sqrt(np.mean(rmse*rmse)))"
   ]
  },
  {
   "cell_type": "code",
   "execution_count": 19,
   "metadata": {},
   "outputs": [],
   "source": [
    "model1 = smf.ols(\"np.log(Salary)~YearsExperience\", data=salary).fit()"
   ]
  },
  {
   "cell_type": "code",
   "execution_count": 20,
   "metadata": {},
   "outputs": [
    {
     "name": "stdout",
     "output_type": "stream",
     "text": [
      "                            OLS Regression Results                            \n",
      "==============================================================================\n",
      "Dep. Variable:         np.log(Salary)   R-squared:                       0.932\n",
      "Model:                            OLS   Adj. R-squared:                  0.930\n",
      "Method:                 Least Squares   F-statistic:                     383.6\n",
      "Date:                Tue, 08 Sep 2020   Prob (F-statistic):           7.03e-18\n",
      "Time:                        21:30:34   Log-Likelihood:                 28.183\n",
      "No. Observations:                  30   AIC:                            -52.37\n",
      "Df Residuals:                      28   BIC:                            -49.56\n",
      "Df Model:                           1                                         \n",
      "Covariance Type:            nonrobust                                         \n",
      "===================================================================================\n",
      "                      coef    std err          t      P>|t|      [0.025      0.975]\n",
      "-----------------------------------------------------------------------------------\n",
      "Intercept          10.5074      0.038    273.327      0.000      10.429      10.586\n",
      "YearsExperience     0.1255      0.006     19.585      0.000       0.112       0.139\n",
      "==============================================================================\n",
      "Omnibus:                        0.826   Durbin-Watson:                   1.438\n",
      "Prob(Omnibus):                  0.661   Jarque-Bera (JB):                0.812\n",
      "Skew:                           0.187   Prob(JB):                        0.666\n",
      "Kurtosis:                       2.286   Cond. No.                         13.2\n",
      "==============================================================================\n",
      "\n",
      "Warnings:\n",
      "[1] Standard Errors assume that the covariance matrix of the errors is correctly specified.\n"
     ]
    }
   ],
   "source": [
    "print(model1.summary())"
   ]
  },
  {
   "cell_type": "code",
   "execution_count": 22,
   "metadata": {},
   "outputs": [
    {
     "name": "stdout",
     "output_type": "stream",
     "text": [
      "0     10.645400\n",
      "1     10.670491\n",
      "2     10.695581\n",
      "3     10.758308\n",
      "4     10.783398\n",
      "5     10.871215\n",
      "6     10.883761\n",
      "7     10.908851\n",
      "8     10.908851\n",
      "9     10.971578\n",
      "10    10.996668\n",
      "11    11.009213\n",
      "12    11.009213\n",
      "13    11.021759\n",
      "14    11.071940\n",
      "15    11.122121\n",
      "16    11.147212\n",
      "17    11.172302\n",
      "18    11.247574\n",
      "19    11.260119\n",
      "20    11.360482\n",
      "21    11.398117\n",
      "22    11.498480\n",
      "23    11.536116\n",
      "24    11.598842\n",
      "25    11.636478\n",
      "26    11.699204\n",
      "27    11.711750\n",
      "28    11.799567\n",
      "29    11.824657\n",
      "dtype: float64\n"
     ]
    }
   ],
   "source": [
    "pred1 = model1.predict(salary)\n",
    "print(pred1)"
   ]
  },
  {
   "cell_type": "code",
   "execution_count": 23,
   "metadata": {},
   "outputs": [
    {
     "name": "stdout",
     "output_type": "stream",
     "text": [
      "0     9.545400\n",
      "1     9.370491\n",
      "2     9.195581\n",
      "3     8.758308\n",
      "4     8.583398\n",
      "5     7.971215\n",
      "6     7.883761\n",
      "7     7.708851\n",
      "8     7.708851\n",
      "9     7.271578\n",
      "10    7.096668\n",
      "11    7.009213\n",
      "12    7.009213\n",
      "13    6.921759\n",
      "14    6.571940\n",
      "15    6.222121\n",
      "16    6.047212\n",
      "17    5.872302\n",
      "18    5.347574\n",
      "19    5.260119\n",
      "20    4.560482\n",
      "21    4.298117\n",
      "22    3.598480\n",
      "23    3.336116\n",
      "24    2.898842\n",
      "25    2.636478\n",
      "26    2.199204\n",
      "27    2.111750\n",
      "28    1.499567\n",
      "29    1.324657\n",
      "dtype: float64\n"
     ]
    }
   ],
   "source": [
    "rmse = pred1-salary.YearsExperience\n",
    "print(rmse)"
   ]
  },
  {
   "cell_type": "code",
   "execution_count": 24,
   "metadata": {},
   "outputs": [
    {
     "name": "stdout",
     "output_type": "stream",
     "text": [
      "6.348343161235198\n"
     ]
    }
   ],
   "source": [
    "print(np.sqrt(np.mean(rmse*rmse)))"
   ]
  }
 ],
 "metadata": {
  "kernelspec": {
   "display_name": "Python 3",
   "language": "python",
   "name": "python3"
  },
  "language_info": {
   "codemirror_mode": {
    "name": "ipython",
    "version": 3
   },
   "file_extension": ".py",
   "mimetype": "text/x-python",
   "name": "python",
   "nbconvert_exporter": "python",
   "pygments_lexer": "ipython3",
   "version": "3.7.6"
  }
 },
 "nbformat": 4,
 "nbformat_minor": 4
}
